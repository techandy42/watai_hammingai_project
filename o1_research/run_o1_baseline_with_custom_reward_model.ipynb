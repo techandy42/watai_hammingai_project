{
  "cells": [
    {
      "cell_type": "markdown",
      "metadata": {},
      "source": [
        "> Upload this notebook to Google Colab to use."
      ]
    },
    {
      "cell_type": "code",
      "execution_count": null,
      "metadata": {},
      "outputs": [],
      "source": [
        "!git clone https://github.com/techandy42/watai_hammingai_project.git"
      ]
    },
    {
      "cell_type": "code",
      "execution_count": null,
      "metadata": {
        "collapsed": true,
        "id": "WF060FOIrTHh"
      },
      "outputs": [],
      "source": [
        "!pip install -e /content/watai_hammingai_project"
      ]
    },
    {
      "cell_type": "code",
      "execution_count": null,
      "metadata": {
        "collapsed": true,
        "id": "i1gPAA_Vl442"
      },
      "outputs": [],
      "source": [
        "!pip install datasets litellm"
      ]
    },
    {
      "cell_type": "code",
      "execution_count": null,
      "metadata": {
        "id": "ypq_HTNIkTMc"
      },
      "outputs": [],
      "source": [
        "%cd watai_hammingai_project"
      ]
    },
    {
      "cell_type": "markdown",
      "metadata": {
        "id": "ZoKGJskRkbBu"
      },
      "source": [
        "> Add `env` file into the `watai_hammingai_project` folder.\n",
        "\n",
        "```\n",
        "# Hamming.ai\n",
        "export OPENAI_API_KEY=<your-openai-api-key>\n",
        "export ANTHROPIC_API_KEY=<your-anthropic-api-key>\n",
        "export GEMINI_API_KEY=<your-gemini-api-key>\n",
        "export COHERE_API_KEY=<your-cohere-api-key>\n",
        "export GROQ_API_KEY=<your-groq-api-key>\n",
        "export MISTRAL_API_KEY=<your-mistral-api-key>\n",
        "# Judge0\n",
        "export RAPIDAPI_KEY=<your-rapidapi-key>\n",
        "```"
      ]
    },
    {
      "cell_type": "code",
      "execution_count": 4,
      "metadata": {
        "id": "uL8oDpNFkrN4"
      },
      "outputs": [],
      "source": [
        "!mv env .env"
      ]
    },
    {
      "cell_type": "code",
      "execution_count": 37,
      "metadata": {
        "collapsed": true,
        "id": "qnDK3hEftzVa"
      },
      "outputs": [],
      "source": [
        "import os\n",
        "\n",
        "# Path to your .env file\n",
        "env_file = '/content/watai_hammingai_project/.env'\n",
        "\n",
        "with open(env_file, 'r') as file:\n",
        "    for line in file:\n",
        "        if line.startswith('export'):\n",
        "            key_value = line.replace('export ', '').strip()\n",
        "            key, value = key_value.split('=', 1)\n",
        "            os.environ[key] = value"
      ]
    },
    {
      "cell_type": "code",
      "execution_count": 6,
      "metadata": {
        "colab": {
          "base_uri": "https://localhost:8080/"
        },
        "id": "n18aqYAPlVVg",
        "outputId": "42318a99-c158-408a-cb86-1c5be3e51c49"
      },
      "outputs": [
        {
          "name": "stdout",
          "output_type": "stream",
          "text": [
            "/content/watai_hammingai_project/o1_research\n"
          ]
        }
      ],
      "source": [
        "%cd o1_research"
      ]
    },
    {
      "cell_type": "code",
      "execution_count": null,
      "metadata": {
        "collapsed": true,
        "id": "hSZSY4TslePk"
      },
      "outputs": [],
      "source": [
        "!python3 train_reward_model.py"
      ]
    },
    {
      "cell_type": "code",
      "execution_count": null,
      "metadata": {
        "collapsed": true,
        "id": "ouGLlR_ClyUN"
      },
      "outputs": [],
      "source": [
        "!python3 simple_testing.py"
      ]
    },
    {
      "cell_type": "code",
      "execution_count": null,
      "metadata": {
        "id": "OMKzOKGAnHvV"
      },
      "outputs": [],
      "source": [
        "!python3 accuracy_test.py"
      ]
    },
    {
      "cell_type": "markdown",
      "metadata": {
        "id": "dmuIfY3sukZB"
      },
      "source": [
        "- Accuracy: 55.56%"
      ]
    },
    {
      "cell_type": "code",
      "execution_count": null,
      "metadata": {
        "id": "QxQN5aDZqzKe"
      },
      "outputs": [],
      "source": [
        "!python3 new_model.py"
      ]
    },
    {
      "cell_type": "code",
      "execution_count": null,
      "metadata": {
        "id": "fKp_IwZnuJig"
      },
      "outputs": [],
      "source": []
    }
  ],
  "metadata": {
    "accelerator": "GPU",
    "colab": {
      "gpuType": "A100",
      "provenance": []
    },
    "kernelspec": {
      "display_name": "Python 3",
      "name": "python3"
    },
    "language_info": {
      "name": "python"
    }
  },
  "nbformat": 4,
  "nbformat_minor": 0
}
